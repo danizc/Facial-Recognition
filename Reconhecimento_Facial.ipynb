{
  "nbformat": 4,
  "nbformat_minor": 0,
  "metadata": {
    "colab": {
      "name": "Reconhecimento_Facial.ipynb",
      "provenance": [],
      "collapsed_sections": [],
      "include_colab_link": true
    },
    "kernelspec": {
      "name": "python3",
      "display_name": "Python 3"
    },
    "language_info": {
      "name": "python"
    },
    "accelerator": "GPU"
  },
  "cells": [
    {
      "cell_type": "markdown",
      "metadata": {
        "id": "view-in-github",
        "colab_type": "text"
      },
      "source": [
        "<a href=\"https://colab.research.google.com/github/danizc/Facial-Recognition/blob/main/Reconhecimento_Facial.ipynb\" target=\"_parent\"><img src=\"https://colab.research.google.com/assets/colab-badge.svg\" alt=\"Open In Colab\"/></a>"
      ]
    },
    {
      "cell_type": "markdown",
      "metadata": {
        "id": "iNmycnc0EVNJ"
      },
      "source": [
        "**TRABALHO DE ROBÓTICA - Projeto**"
      ]
    },
    {
      "cell_type": "markdown",
      "metadata": {
        "id": "6QsBysUPD_hK"
      },
      "source": [
        "Alterar tipo de ambiente de execução para GPU"
      ]
    },
    {
      "cell_type": "code",
      "metadata": {
        "id": "6rbzE3l4NAK0"
      },
      "source": [
        "!pip install face_recognition"
      ],
      "execution_count": null,
      "outputs": []
    },
    {
      "cell_type": "code",
      "metadata": {
        "id": "9o31y_Tc1XFi"
      },
      "source": [
        "import face_recognition\n",
        "import os\n",
        "import cv2\n",
        "from google.colab.patches import cv2_imshow\n",
        "from pathlib import Path"
      ],
      "execution_count": 14,
      "outputs": []
    },
    {
      "cell_type": "code",
      "metadata": {
        "id": "NbbVtiAc1Xgv"
      },
      "source": [
        "KNOWN_FACES_DIR = Path('known_faces')\n",
        "UNKNOWN_FACES_DIR = Path('unknown_faces')\n",
        "KNOWN_FACES_DIR.mkdir(exist_ok=True)\n",
        "UNKNOWN_FACES_DIR.mkdir(exist_ok=True)"
      ],
      "execution_count": 15,
      "outputs": []
    },
    {
      "cell_type": "markdown",
      "metadata": {
        "id": "5pfAc9eY1mJB"
      },
      "source": [
        "#Reconhecimento facial para imagens individuais"
      ]
    },
    {
      "cell_type": "code",
      "metadata": {
        "id": "yPRJB51fEauZ"
      },
      "source": [
        "TOLERANCE = 0.5 #nível de rigorosidade \n",
        "FRAME_THICKNESS = 3 #tamanho da linha do retângulo\n",
        "FONT_THICKNESS = 2 #tamanho da linha da fonte\n",
        "MODEL = 'cnn' # (convolutional neural network deep leaning)\n",
        "\n",
        "\n",
        "def name_to_color(name):\n",
        "    \n",
        "    color = [(ord(c.lower())-97)*8 for c in name[:3]] #colorir o retângulo demarcando o rosto\n",
        "    return color\n",
        "\n",
        "print('Loading known faces...') #leitura dos arquivos/listas \n",
        "known_faces = [] #lista de rostos que conhecemos\n",
        "known_names = [] #lista de rostos para ser identificados\n",
        "\n",
        "for name in os.listdir(KNOWN_FACES_DIR): #iterar known_faces\n",
        "    for filename in os.listdir(f'{KNOWN_FACES_DIR}/{name}'): #carregar files\n",
        "\n",
        "      if not os.path.isfile(f'{KNOWN_FACES_DIR}/{name}/{filename}'): #apenas verifica/separa o que não é um file\n",
        "        continue\n",
        "\n",
        "      image = face_recognition.load_image_file(f'{KNOWN_FACES_DIR}/{name}/{filename}')\n",
        "      encoding = face_recognition.face_encodings(image)[0] #identifica o primeiro rosto e retorna lista de rostos encontrados\n",
        "      known_faces.append(encoding) #adicionam o nome aos rostos encontrados se identificado\n",
        "      known_names.append(name)\n",
        "\n",
        "print('Processing unknown faces...')\n",
        "\n",
        "for filename in os.listdir(UNKNOWN_FACES_DIR): #iterar lista com faces à serem reconhecidas\n",
        "\n",
        "  if not os.path.isfile(f'{UNKNOWN_FACES_DIR}/{filename}'): #apenas verifica/separa o que não é um file\n",
        "    continue\n",
        "\n",
        "  print(f'Filename {filename}', end='')\n",
        "\n",
        "  image = face_recognition.load_image_file(f'{UNKNOWN_FACES_DIR}/{filename}')\n",
        "  locations = face_recognition.face_locations(image, model=MODEL) #localizar rostos nas imagens\n",
        "  encodings = face_recognition.face_encodings(image, locations) #identificar rostos\n",
        "  image = cv2.cvtColor(image, cv2.COLOR_RGB2BGR) #desenhar retângulo ao redor do rosto\n",
        "\n",
        "  print(f', found {len(encodings)} face(s)')\n",
        "\n",
        "  for face_encoding, face_location in zip(encodings, locations): #assumir que pode ter mais rostos na imagem\n",
        "\n",
        "    results = face_recognition.compare_faces(known_faces, face_encoding, TOLERANCE) #comparar imagens e avalia-las\n",
        "    match = None # É feita uma checagem do rosto que foi encontrado, e atribui a este rosto conhecido uma tolerância\n",
        "\n",
        "    if True in results: # Se pelo menos um dos resultados é verdadeiro, relaciona o nome correto a imagem através da tolerância\n",
        "        match = known_names[results.index(True)]\n",
        "        print(f' - {match} from {results}')\n",
        "\n",
        "        # Constrói o retângulo, sendo que depende de uma ordem pré-estabelecida dos lados: top, right, bottom, left\n",
        "        top_left = (face_location[3], face_location[0])\n",
        "        bottom_right = (face_location[1], face_location[2])\n",
        "        color = name_to_color(match) # Atribui uma cor através de uma função\n",
        "        cv2.rectangle(image, top_left, bottom_right, color, FRAME_THICKNESS) # Pinta os frames do retângulo\n",
        "        top_left = (face_location[3], face_location[2]) # Faz um retângulo menor para que o nome da imagem fique em destaque dentro dele\n",
        "        bottom_right = (face_location[1], face_location[2] + 22) # Puxa os dois cantos inferiores 50 pixels para baixo de maneira que o retângulo fique preenchido, dando mais destaque ao nome\n",
        "        cv2.rectangle(image, top_left, bottom_right, color, cv2.FILLED) # Pinta os frames do retângulo de forma a preenchê-lo\n",
        "        cv2.putText(image, match, (face_location[3] + 10, face_location[2] + 15), cv2.FONT_HERSHEY_SIMPLEX, 0.5, (200, 200, 200), FONT_THICKNESS) # Atribui um nome à imagem\n",
        "        cv2_imshow(image) # Mostra apenas as imagens que foram identificadas\n",
        "        "
      ],
      "execution_count": null,
      "outputs": []
    }
  ]
}